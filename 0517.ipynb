{
 "cells": [
  {
   "cell_type": "code",
   "execution_count": 1,
   "id": "a85ae261",
   "metadata": {},
   "outputs": [],
   "source": [
    "import warnings\n",
    "warnings.filterwarnings('ignore')\n",
    "import glob\n",
    "import os\n",
    "import pickle\n",
    "import joblib\n",
    "import pandas as pd\n",
    "pd.set_option(\"display.max_rows\", 100)\n",
    "pd.set_option(\"display.max_columns\", 100)\n",
    "import numpy as np\n",
    "from scipy import stats\n",
    "import matplotlib.pyplot as plt\n",
    "import seaborn as sns\n",
    "from itertools import combinations\n",
    "\n",
    "from hyperopt.pyll.base import scope\n",
    "from hyperopt import STATUS_OK, Trials, fmin, hp, tpe\n",
    "import lightgbm as lgb\n",
    "from lightgbm import LGBMClassifier\n",
    "from xgboost import XGBClassifier\n",
    "import xgboost as xgb\n",
    "from catboost import Pool, CatBoostClassifier\n",
    "from kaggler.model import AutoLGB\n",
    "from sklearn.model_selection import StratifiedKFold, KFold, GridSearchCV, StratifiedShuffleSplit, train_test_split\n",
    "from sklearn.preprocessing import OneHotEncoder\n",
    "from sklearn.preprocessing import StandardScaler\n",
    "from sklearn.ensemble import RandomForestClassifier\n",
    "from sklearn.metrics import confusion_matrix, accuracy_score, log_loss\n",
    "import random"
   ]
  },
  {
   "cell_type": "markdown",
   "id": "555105c4",
   "metadata": {},
   "source": [
    "# 1. 문제 정의"
   ]
  },
  {
   "cell_type": "markdown",
   "id": "b53bb49f",
   "metadata": {},
   "source": [
    "# 2. 데이터 수집"
   ]
  },
  {
   "cell_type": "markdown",
   "id": "fb8b73ad",
   "metadata": {},
   "source": [
    "## (1) 데이콘 기본 데이터"
   ]
  },
  {
   "cell_type": "code",
   "execution_count": 2,
   "id": "c331cba6",
   "metadata": {},
   "outputs": [],
   "source": [
    "train = pd.read_csv('data/train.csv').drop(['index'], axis=1).fillna('NAN')\n",
    "test = pd.read_csv('data/test.csv').drop(['index'], axis=1).fillna('NAN')\n",
    "sample_submission = pd.read_csv('data/sample_submission.csv')"
   ]
  },
  {
   "cell_type": "markdown",
   "id": "1bb897bb",
   "metadata": {},
   "source": [
    "# 3. 탐색적 데이터 분석"
   ]
  },
  {
   "cell_type": "markdown",
   "id": "3a332413",
   "metadata": {},
   "source": [
    "# 4. 변수 조정"
   ]
  },
  {
   "cell_type": "code",
   "execution_count": 3,
   "id": "75c9c6bc",
   "metadata": {},
   "outputs": [],
   "source": [
    "# train데이터와 test데이터 변수를 함께 조정하기 위해 병합\n",
    "merge_data = pd.concat([train, test], axis = 0)\n",
    "\n",
    "# DAYS_BIRTH\n",
    "merge_data['DAYS_BIRTH_month']=np.floor((-merge_data['DAYS_BIRTH'])/30)-(\n",
    "    (np.floor((-merge_data['DAYS_BIRTH'])/30)/12).astype(int)*12)\n",
    "merge_data['DAYS_BIRTH_week']=np.floor((-merge_data['DAYS_BIRTH'])/7)-(\n",
    "    (np.floor((-merge_data['DAYS_BIRTH'])/7)/4).astype(int)*4)\n",
    "\n",
    "# DAYS_EMPLOYED\n",
    "merge_data['DAYS_EMPLOYED_month']=np.floor((-merge_data['DAYS_EMPLOYED'])/30)-(\n",
    "    (np.floor((-merge_data['DAYS_EMPLOYED'])/30)/12).astype(int)*12)\n",
    "merge_data['DAYS_EMPLOYED_week']=np.floor((-merge_data['DAYS_EMPLOYED'])/7)-(\n",
    "    (np.floor((-merge_data['DAYS_EMPLOYED'])/7)/4).astype(int)*4)\n",
    "\n",
    "# before_EMPLOYED\n",
    "merge_data['before_EMPLOYED']=merge_data['DAYS_BIRTH']-merge_data['DAYS_EMPLOYED']\n",
    "merge_data['before_EMPLOYED_month']=np.floor((-merge_data['before_EMPLOYED'])/30)-(\n",
    "    (np.floor((-merge_data['before_EMPLOYED'])/30)/12).astype(int)*12)\n",
    "merge_data['before_EMPLOYED_week']=np.floor((-merge_data['before_EMPLOYED'])/7)-(\n",
    "    (np.floor((-merge_data['before_EMPLOYED'])/7)/4).astype(int)*4)\n",
    "\n",
    "# DAYS_BIRTH\n",
    "merge_data['1new_1'] = merge_data['DAYS_BIRTH_month'] / merge_data['income_total']\n",
    "merge_data['2new_1'] = merge_data['DAYS_BIRTH_week'] / merge_data['income_total']\n",
    "\n",
    "# DAYS_EMPLOYED\n",
    "merge_data['10new_1'] = merge_data['DAYS_EMPLOYED_month'] / merge_data['income_total']\n",
    "merge_data['11new_1'] = merge_data['DAYS_EMPLOYED_week'] / merge_data['income_total']\n",
    "\n",
    "# before_EMPLOYED\n",
    "merge_data['12new_1'] = merge_data['before_EMPLOYED'] / merge_data['income_total']\n",
    "merge_data['13new_1'] = merge_data['before_EMPLOYED_month'] / merge_data['income_total']\n",
    "merge_data['14new_1'] = merge_data['before_EMPLOYED_week'] / merge_data['income_total']\n",
    "\n",
    "# 총 수익을 가족 수로 나누기\n",
    "merge_data['15new_1'] = merge_data['income_total'] / merge_data['family_size']\n",
    "\n",
    "# 융합 삭제\n",
    "#merge_data['3new_1'] = merge_data['DAYS_EMPLOYED_month'] / merge_data['DAYS_BIRTH_month']\n",
    "#merge_data['4new_1'] = merge_data['DAYS_EMPLOYED_month'] / merge_data['DAYS_BIRTH_week']\n",
    "#merge_data['5new_1'] = merge_data['DAYS_EMPLOYED_week'] / merge_data['DAYS_BIRTH_month']\n",
    "#merge_data['6new_1'] = merge_data['DAYS_EMPLOYED_week'] / merge_data['DAYS_BIRTH_week']\n",
    "\n",
    "#merge_data['7new_1'] =  merge_data['begin_month'] / merge_data['DAYS_BIRTH_month']\n",
    "#merge_data['8new_1'] =  merge_data['begin_month'] / merge_data['DAYS_EMPLOYED_month']\n",
    "#merge_data['9new_1'] =  merge_data['begin_month'] / merge_data['before_EMPLOYED_month']\n",
    "\n",
    "merge_data['new_1'] = merge_data['child_num'] / merge_data['income_total']\n",
    "merge_data['new_2'] = merge_data['family_size'] / merge_data['income_total']\n",
    "merge_data['new_3'] = merge_data['DAYS_BIRTH'] / merge_data['income_total']\n",
    "merge_data['new_4'] = merge_data['DAYS_EMPLOYED'] / merge_data['income_total']\n",
    "#merge_data['new_5'] = merge_data['begin_month'] / merge_data['income_total']\n",
    "merge_data['new_6'] =  merge_data['DAYS_EMPLOYED'] / merge_data['DAYS_BIRTH']\n",
    "\n",
    "# 소득 skewed-data 처리\n",
    "#merge_data['log1p_income_total'] = np.log1p(merge_data['income_total'])\n",
    "# merge_data['log_income_total'] = np.log(merge_data['income_total'])\n",
    "# merge_data['sqrt_income_total'] = np.sqrt(merge_data['income_total'])\n",
    "# merge_data['boxcox_income_total'] = stats.boxcox(merge_data['income_total'])[0]\n",
    "\n",
    "merge_data = merge_data.fillna(-999)\n",
    "train = merge_data[merge_data['credit'] != -999]\n",
    "test = merge_data[merge_data['credit'] == -999]\n",
    "test.drop('credit', axis = 1, inplace = True)\n",
    "\n",
    "train_cols = list(train.columns); train_cols.remove('credit'); train_cols.append('credit')\n",
    "train = train[train_cols]"
   ]
  },
  {
   "cell_type": "markdown",
   "id": "dc769082",
   "metadata": {
    "scrolled": false
   },
   "source": [
    "train = train[train['child_num']<=6].reset_index(drop=True) # 아이의 수가 7명 이상인 데이터 제거"
   ]
  },
  {
   "cell_type": "markdown",
   "id": "8a72bca4",
   "metadata": {},
   "source": [
    "## 인코딩"
   ]
  },
  {
   "cell_type": "markdown",
   "id": "6f4ce31c",
   "metadata": {},
   "source": [
    "remove_features = [2, 4, 23]\n",
    "train = train.drop(train.columns[remove_features], axis=1)\n",
    "test = test.drop(test.columns[remove_features], axis=1)"
   ]
  },
  {
   "cell_type": "code",
   "execution_count": 4,
   "id": "b8524496",
   "metadata": {},
   "outputs": [],
   "source": [
    "train_oh = train.copy()\n",
    "train_noh = train.copy()\n",
    "test_oh = test.copy()\n",
    "test_noh = test.copy()"
   ]
  },
  {
   "cell_type": "code",
   "execution_count": 5,
   "id": "d55d9c7d",
   "metadata": {},
   "outputs": [],
   "source": [
    "object_col = []\n",
    "for col in train_noh.columns:\n",
    "    if train_noh[col].dtype == 'object':\n",
    "        train_noh[col] = train_noh[col].astype('category')\n",
    "        test_noh[col] = test_noh[col].astype('category')"
   ]
  },
  {
   "cell_type": "code",
   "execution_count": 6,
   "id": "973a5b25",
   "metadata": {},
   "outputs": [
    {
     "name": "stdout",
     "output_type": "stream",
     "text": [
      "['gender', 'car', 'reality', 'income_type', 'edu_type', 'family_type', 'house_type', 'occyp_type']\n"
     ]
    }
   ],
   "source": [
    "object_col = []\n",
    "for col in train_oh.columns:\n",
    "    if train_oh[col].dtype == 'object':\n",
    "        object_col.append(col)\n",
    "print(object_col)        \n",
    "enc = OneHotEncoder()\n",
    "enc.fit(train.loc[:,object_col])\n",
    "\n",
    "\n",
    "train_onehot_df = pd.DataFrame(enc.transform(train_oh.loc[:,object_col]).toarray(), \n",
    "             columns=enc.get_feature_names(object_col))\n",
    "train_oh.drop(object_col, axis=1, inplace=True)\n",
    "train_oh = pd.concat([train_oh, train_onehot_df], axis=1)    \n",
    "\n",
    "test_onehot_df = pd.DataFrame(enc.transform(test_oh.loc[:,object_col]).toarray(), \n",
    "             columns=enc.get_feature_names(object_col))\n",
    "test_oh.drop(object_col, axis=1, inplace=True)\n",
    "test_oh = pd.concat([test_oh, test_onehot_df], axis=1)"
   ]
  },
  {
   "cell_type": "markdown",
   "id": "b11f7445",
   "metadata": {},
   "source": [
    "## Feature 하나씩 빼면서 성능 체크"
   ]
  },
  {
   "cell_type": "markdown",
   "id": "d29b0e4f",
   "metadata": {},
   "source": [
    "변수 하나씩 제거하면서 성능 체크<br>\n",
    "제거하여 성능이 좋게 나온 것들은 리스트에 따로 저장해두기"
   ]
  },
  {
   "cell_type": "code",
   "execution_count": 7,
   "id": "c40ec457",
   "metadata": {},
   "outputs": [],
   "source": [
    "train_x = train_noh.drop(['credit'], axis=1)\n",
    "train_y = train_noh['credit']\n",
    "test_x = test_noh.copy()"
   ]
  },
  {
   "cell_type": "code",
   "execution_count": 8,
   "id": "144f27ee",
   "metadata": {},
   "outputs": [],
   "source": [
    "# kfold = StratifiedKFold(n_splits=5, shuffle=True, random_state=0)\n",
    "# cv = np.zeros((train_x.shape[0], 3))\n",
    "# for n, (train_idx, val_idx) in enumerate(kfold.split(train_x, train_y)):\n",
    "#     x_train, x_val = train_x.iloc[train_idx], train_x.iloc[val_idx]\n",
    "#     y_train, y_val = train_y.iloc[train_idx], train_y.iloc[val_idx]\n",
    "#     lgbm = LGBMClassifier(n_estimators=1000, objective='multiclass')\n",
    "#     lgbm.fit(x_train, y_train, eval_set=[(x_val, y_val)], early_stopping_rounds=30, verbose=None)\n",
    "#     cv[val_idx] = lgbm.predict_proba(x_val)\n",
    "# Initial_log_loss = log_loss(train_y, cv)\n",
    "# print(f'Initial_multi_logloss: {Initial_log_loss}')\n",
    "\n",
    "# remove_features = []\n",
    "# for i in range(1, 2):\n",
    "#     for j in combinations(list(range(0, train_x.shape[1])), i):\n",
    "#         train_new_x = train_x.drop(train_x.columns[list(j)], axis=1)\n",
    "        \n",
    "#         kfold = StratifiedKFold(n_splits=5, shuffle=True, random_state=0)\n",
    "#         cv = np.zeros((train_new_x.shape[0], 3))\n",
    "#         for n, (train_idx, val_idx) in enumerate(kfold.split(train_new_x, train_y)):\n",
    "#             x_train, x_val = train_new_x.iloc[train_idx], train_new_x.iloc[val_idx]\n",
    "#             y_train, y_val = train_y.iloc[train_idx], train_y.iloc[val_idx]\n",
    "#             lgbm = LGBMClassifier(n_estimators=1000, objective='multiclass')\n",
    "#             lgbm.fit(x_train, y_train, eval_set=[(x_val, y_val)], early_stopping_rounds=30, verbose=None)\n",
    "#             cv[val_idx] = lgbm.predict_proba(x_val)\n",
    "#         print(f'{j} multi_logloss: {log_loss(train_y, cv)}')\n",
    "#         if log_loss(train_y, cv) < Initial_log_loss:\n",
    "#             remove_features.append(list(j)[0])"
   ]
  },
  {
   "cell_type": "markdown",
   "id": "278a29da",
   "metadata": {},
   "source": [
    "## 저장한 변수 지우는 코드"
   ]
  },
  {
   "cell_type": "code",
   "execution_count": null,
   "id": "7f72e24c",
   "metadata": {},
   "outputs": [],
   "source": [
    "remove_features = [1, 3, 4, 8, 11, 32]\n",
    "train = train.drop(train.columns[remove_features], axis=1)\n",
    "test = test.drop(test.columns[remove_features], axis=1)"
   ]
  },
  {
   "cell_type": "markdown",
   "id": "ff35c0a7",
   "metadata": {},
   "source": [
    "## 다시 인코딩"
   ]
  },
  {
   "cell_type": "code",
   "execution_count": null,
   "id": "92b6f7a4",
   "metadata": {},
   "outputs": [],
   "source": [
    "train_oh = train.copy()\n",
    "train_noh = train.copy()\n",
    "test_oh = test.copy()\n",
    "test_noh = test.copy()"
   ]
  },
  {
   "cell_type": "code",
   "execution_count": null,
   "id": "1aea43fe",
   "metadata": {},
   "outputs": [],
   "source": [
    "object_col = []\n",
    "for col in train_noh.columns:\n",
    "    if train_noh[col].dtype == 'object':\n",
    "        train_noh[col] = train_noh[col].astype('category')\n",
    "        test_noh[col] = test_noh[col].astype('category')"
   ]
  },
  {
   "cell_type": "code",
   "execution_count": null,
   "id": "d917e730",
   "metadata": {},
   "outputs": [],
   "source": [
    "object_col = []\n",
    "for col in train_oh.columns:\n",
    "    if train_oh[col].dtype == 'object':\n",
    "        object_col.append(col)\n",
    "print(object_col)        \n",
    "enc = OneHotEncoder()\n",
    "enc.fit(train.loc[:,object_col])\n",
    "\n",
    "\n",
    "train_onehot_df = pd.DataFrame(enc.transform(train_oh.loc[:,object_col]).toarray(), \n",
    "             columns=enc.get_feature_names(object_col))\n",
    "train_oh.drop(object_col, axis=1, inplace=True)\n",
    "train_oh = pd.concat([train_oh, train_onehot_df], axis=1)    \n",
    "\n",
    "test_onehot_df = pd.DataFrame(enc.transform(test_oh.loc[:,object_col]).toarray(), \n",
    "             columns=enc.get_feature_names(object_col))\n",
    "test_oh.drop(object_col, axis=1, inplace=True)\n",
    "test_oh = pd.concat([test_oh, test_onehot_df], axis=1)"
   ]
  },
  {
   "cell_type": "markdown",
   "id": "27579a55",
   "metadata": {},
   "source": [
    "# 6. 모델 학습"
   ]
  },
  {
   "cell_type": "code",
   "execution_count": null,
   "id": "50b6f3ce",
   "metadata": {},
   "outputs": [],
   "source": [
    "pred_dict = {}\n",
    "pred_test_dict = {}"
   ]
  },
  {
   "cell_type": "markdown",
   "id": "f1a94e4a",
   "metadata": {},
   "source": [
    "## (1) Lightgbm"
   ]
  },
  {
   "cell_type": "code",
   "execution_count": null,
   "id": "5ed5ad0a",
   "metadata": {},
   "outputs": [],
   "source": [
    "train_x = train_noh.drop(['credit'], axis=1)\n",
    "train_y = train_noh['credit']\n",
    "test_x = test_noh.copy()"
   ]
  },
  {
   "cell_type": "markdown",
   "id": "fe6c310f",
   "metadata": {},
   "source": [
    "### Parameter Tuning"
   ]
  },
  {
   "cell_type": "code",
   "execution_count": null,
   "id": "02c8996e",
   "metadata": {},
   "outputs": [],
   "source": [
    "# SEED=0\n",
    "\n",
    "# # Hyperopt의 metric함수를 StratifiedKFold(cv=5)로 구하기\n",
    "# def score(params):\n",
    "#     print(\"Training with params: \")\n",
    "#     print(params)\n",
    "    \n",
    "#     kfold = StratifiedKFold(n_splits=5, random_state = SEED, shuffle = True)\n",
    "#     cv = np.zeros((train_x.shape[0], 3))\n",
    "\n",
    "#     for n, (train_idx, val_idx) in enumerate(kfold.split(train_x, train_y)):\n",
    "        \n",
    "#         x_train, x_val = train_x.iloc[train_idx], train_x.iloc[val_idx]\n",
    "#         y_train, y_val = train_y.iloc[train_idx], train_y.iloc[val_idx]\n",
    "\n",
    "#         lgbmodel = LGBMClassifier(**params)\n",
    "\n",
    "#         lgbmodel.fit(x_train, y_train, eval_set=[(x_val, y_val)], early_stopping_rounds=30, verbose=None) \n",
    "#         cv[val_idx, :] = lgbmodel.predict_proba(x_val)\n",
    "#         #print(f'fold{n+1} multi_logloss: {log_loss(y_val, cv[val_idx, :])}')\n",
    "#     print('multi_logloss:', log_loss(train_y, cv))\n",
    "#     score = log_loss(train_y, cv)\n",
    "#     return {'loss': score, 'status': STATUS_OK}\n",
    "\n",
    "# # Hyperopt의 범위를 지정해주고 max_evals만큼 반복한 후 최적의 파라미터를 반환\n",
    "# def optimize(random_state=SEED):\n",
    "    \n",
    "# #     param = {'objective':'multi:softprob', 'seed':SEED, 'num_class': 3, 'eval_metric':'mlogloss', \n",
    "# #          'eta': 0.01, 'min_child_weight': 3,\n",
    "# #          'colsample_bytree': 0.3, 'colsample_bylevel': 0.6, 'subsample': 0.8\n",
    "# #         }\n",
    "#     space = {\n",
    "#         #'learning_rate': hp.quniform('learning_rate', 0.004, 0.005, 0.001),\n",
    "#         'learning_rate' : 0.004,\n",
    "#         #'num_leaves': scope.int(hp.quniform('num_leaves', 1000, 1200, 50)),\n",
    "#         'num_leaves' : 1000,\n",
    "#         #'min_child_weight': hp.quniform('min_child_weight', 1, 3, 1),\n",
    "#         'min_child_weight' : 2,\n",
    "#         #'subsample': hp.quniform('subsample', 0.8, 1, 0.05),\n",
    "#         'subsample' : 1,\n",
    "#         #'colsample_bytree': hp.quniform('colsample_bytree', 0.6, 0.61, 0.01),\n",
    "#         'colsample_bytree' : 0.6,\n",
    "#         #'reg_alpha': hp.quniform('lambda_l1', 0.9, 1, 0.01),\n",
    "#         'reg_alpha' : 0.94,\n",
    "#         #'reg_lambda': hp.quniform('lambda_l2', 0.8, 1, 0.02),\n",
    "#         'reg_lambda' : 0.98,\n",
    "#         'max_depth' : -1,\n",
    "#         'n_estimators' : 5000,\n",
    "#         'objective' : 'multiclass',\n",
    "#         'num_class' : 3,\n",
    "#         'seed': SEED,\n",
    "#     }\n",
    "#     # Use the fmin function from Hyperopt to find the best hyperparameters\n",
    "#     best = fmin(score, space, algo=tpe.suggest, \n",
    "#                 # trials=trials, \n",
    "#                 max_evals=12)\n",
    "#     return best\n",
    "\n",
    "# best_hyperparams = optimize()\n",
    "# print(\"The best hyperparameters are: \", \"\\n\")\n",
    "# print(best_hyperparams)"
   ]
  },
  {
   "cell_type": "markdown",
   "id": "ebe47f89",
   "metadata": {},
   "source": [
    "### 3 seeds x 10 folds"
   ]
  },
  {
   "cell_type": "code",
   "execution_count": null,
   "id": "4f259e3d",
   "metadata": {},
   "outputs": [],
   "source": [
    "lucky_seeds=[100,2019,91373] # Lucky seed 늘려가면서 하기\n",
    "for i, seed in enumerate(lucky_seeds):\n",
    "\n",
    "    kfold = StratifiedKFold(n_splits=10, random_state = seed, shuffle = True) # CV 늘려가면서 하기\n",
    "    cv=np.zeros((train_x.shape[0], 3))\n",
    "    pred_test = np.zeros((test_x.shape[0], 3), dtype=float)\n",
    "    \n",
    "    for n, (train_idx, val_idx) in enumerate(kfold.split(train_x, train_y)):\n",
    "\n",
    "        x_train, x_val = train_x.iloc[train_idx], train_x.iloc[val_idx]\n",
    "        y_train, y_val = train_y.iloc[train_idx], train_y.iloc[val_idx]\n",
    "        \n",
    "        lgbmodel = LGBMClassifier(learning_rate=0.004, objective='multiclass', n_estimators=10000, num_leaves=1000, \n",
    "                                  max_depth=-1, min_child_weight=2, colsample_bytree=0.6, reg_alpha=0.94, reg_lambda=0.98,\n",
    "                                   n_jobs=-1, random_state=seed)\n",
    "\n",
    "        lgbmodel.fit(x_train, y_train, eval_set=[(x_val, y_val)], early_stopping_rounds=30, verbose=None) \n",
    "        #joblib.dump(lgbmodel, f'./pred_pkl/LGB_{n+1}_fold_{seed}_seed_lgb.pkl')\n",
    "\n",
    "        # CROSS-VALIDATION , EVALUATE CV\n",
    "        cv[val_idx,:] = lgbmodel.predict_proba(x_val)\n",
    "        pred_test += lgbmodel.predict_proba(test_x) / 10 # CV 바꾸면 이 숫자도 똑같이 바꿔야함\n",
    "    pred_dict['lgb'+str(seed)] = cv\n",
    "    pred_test_dict['lgb'+str(seed)] = pred_test\n",
    "        \n",
    "    print('multi_logloss :', log_loss(train_y, cv))"
   ]
  },
  {
   "cell_type": "markdown",
   "id": "5dc21dfe",
   "metadata": {},
   "source": [
    "lgbmodels_path = os.listdir('./pred_pkl/')\n",
    "lgbmodels_list = [x for x in lgbmodels_path if x.endswith(\"lgb.pkl\")]\n",
    "assert len(lgbmodels_list) == 15\n",
    "lgb_preds = np.zeros((test_x.shape[0], 3))\n",
    "\n",
    "for m in lgbmodels_list:\n",
    "    lgbmodel = joblib.load('./pred_pkl/'+m)\n",
    "    lgb_preds_proba = lgbmodel.predict_proba(test)\n",
    "    lgb_preds += lgb_preds_proba/15"
   ]
  },
  {
   "cell_type": "markdown",
   "id": "1ca64116",
   "metadata": {},
   "source": [
    "## (2) XGBoost"
   ]
  },
  {
   "cell_type": "markdown",
   "id": "ad8e07d6",
   "metadata": {},
   "source": [
    "원핫인코딩된 feature로 만들어주기 **꼭 밑에 코드 실행하고 XGBoost랑 Randomforest 돌리기!!**"
   ]
  },
  {
   "cell_type": "code",
   "execution_count": null,
   "id": "e7a114e0",
   "metadata": {},
   "outputs": [],
   "source": [
    "train_x = train_oh.drop(['credit'], axis=1)\n",
    "train_y = train_oh['credit']\n",
    "test_x = test_oh.copy()"
   ]
  },
  {
   "cell_type": "markdown",
   "id": "93638fee",
   "metadata": {},
   "source": [
    "### Parameter Tuning (hyperopt)"
   ]
  },
  {
   "cell_type": "code",
   "execution_count": null,
   "id": "03d379c4",
   "metadata": {},
   "outputs": [],
   "source": [
    "# SEED=0\n",
    "\n",
    "# # Hyperopt의 metric함수를 StratifiedKFold(cv=5)로 구하기\n",
    "# def score(params):\n",
    "#     print(\"Training with params: \")\n",
    "#     print(params)\n",
    "    \n",
    "#     kfold = StratifiedKFold(n_splits=5, random_state = SEED, shuffle = True)\n",
    "#     cv = np.zeros((train_x.shape[0], 3))\n",
    "\n",
    "#     for n, (train_idx, val_idx) in enumerate(kfold.split(train_x, train_y)):\n",
    "        \n",
    "#         x_train, x_val = train_x.iloc[train_idx], train_x.iloc[val_idx]\n",
    "#         y_train, y_val = train_y.iloc[train_idx], train_y.iloc[val_idx]\n",
    "        \n",
    "#         dtrain = xgb.DMatrix(x_train, label=y_train)\n",
    "#         dvalid = xgb.DMatrix(x_val, label=y_val)\n",
    "#         watchlist = [(dtrain, 'train'), (dvalid, 'valid')]\n",
    "\n",
    "#         xgbmodel = xgb.train(params, dtrain, 100000, watchlist, early_stopping_rounds=30, verbose_eval=None)\n",
    "#         cv[val_idx, :] = xgbmodel.predict(dvalid)\n",
    "#         print(f'fold{n+1} multi_logloss: {log_loss(y_val, cv[val_idx, :])}')\n",
    "#     print('multi_logloss:', log_loss(train_y, cv))\n",
    "#     score = log_loss(train_y, cv)\n",
    "#     return {'loss': score, 'status': STATUS_OK}\n",
    "\n",
    "# # Hyperopt의 범위를 지정해주고 max_evals만큼 반복한 후 최적의 파라미터를 반환\n",
    "# def optimize(random_state=SEED):\n",
    "    \n",
    "# #     param = {'objective':'multi:softprob', 'seed':SEED, 'num_class': 3, 'eval_metric':'mlogloss', \n",
    "# #          'eta': 0.01, 'min_child_weight': 3,\n",
    "# #          'colsample_bytree': 0.3, 'colsample_bylevel': 0.6, 'subsample': 0.8\n",
    "# #         }\n",
    "#     space = {\n",
    "#         #'eta': hp.quniform('eta', 0.006, 0.007, 0.001),\n",
    "#         'eta' : 0.005,\n",
    "#         #'max_depth':  hp.choice('max_depth', np.arange(20, 30, dtype=int)),\n",
    "#         #'min_child_weight': hp.quniform('min_child_weight', 4, 5, 1),\n",
    "#         'min_child_weight': 4,\n",
    "#         #'subsample': hp.quniform('subsample', 0.72, 0.8, 0.02),\n",
    "#         'subsample': 0.72,\n",
    "#         #'gamma': hp.quniform('gamma', 0.6, 0.8, 0.05),\n",
    "#         'gamma': 0.7,\n",
    "#         #'colsample_bytree': hp.quniform('colsample_bytree', 0.3, 0.7, 0.05),\n",
    "#         'colsample_bytree': 0.45,\n",
    "#         #'colsample_bylevel': hp.quniform('colsample_bylevel', 0.1, 0.15, 0.01),\n",
    "#         'colsample_bylevel': 0.15,\n",
    "#         'max_depth' : 100,\n",
    "#         'eval_metric': 'mlogloss',\n",
    "#         'objective' : 'multi:softprob',\n",
    "#         'num_class' : 3,\n",
    "#         'seed': SEED,\n",
    "#     }\n",
    "#     # Use the fmin function from Hyperopt to find the best hyperparameters\n",
    "#     best = fmin(score, space, algo=tpe.suggest, \n",
    "#                 # trials=trials, \n",
    "#                 max_evals=10)\n",
    "#     return best\n",
    "\n",
    "# best_hyperparams = optimize()\n",
    "# print(\"The best hyperparameters are: \", \"\\n\")\n",
    "# print(best_hyperparams)"
   ]
  },
  {
   "cell_type": "markdown",
   "id": "fc3a371b",
   "metadata": {},
   "source": [
    "### 3 seeds x 10 folds"
   ]
  },
  {
   "cell_type": "code",
   "execution_count": null,
   "id": "c6c1a171",
   "metadata": {},
   "outputs": [],
   "source": [
    "lucky_seeds=[0, 100, 91373] # 늘려가면서\n",
    "xgtest = xgb.DMatrix(test_x)\n",
    "for i, seed in enumerate(lucky_seeds):\n",
    "\n",
    "    kfold = StratifiedKFold(n_splits=10, random_state = seed, shuffle = True) # 늘려가면서\n",
    "    cv = np.zeros((train.shape[0], 3))\n",
    "    pred_test = np.zeros((test_x.shape[0], 3), dtype=float)\n",
    "\n",
    "    for n, (train_idx, val_idx) in enumerate(kfold.split(train_x, train_y)):\n",
    "        \n",
    "        x_train, x_val = train_x.iloc[train_idx], train_x.iloc[val_idx]\n",
    "        y_train, y_val = train_y.iloc[train_idx], train_y.iloc[val_idx]\n",
    "        \n",
    "        dtrain = xgb.DMatrix(x_train, label=y_train)\n",
    "        dvalid = xgb.DMatrix(x_val, label=y_val)\n",
    "        watchlist = [(dtrain, 'train'), (dvalid, 'valid')]\n",
    "\n",
    "        param = {'colsample_bylevel': 0.15, 'colsample_bytree': 0.45, 'eta': 0.005, 'eval_metric': 'mlogloss', \n",
    "         'gamma': 0.7, 'max_depth': 100, 'min_child_weight': 4, 'num_class': 3, \n",
    "         'objective': 'multi:softprob', 'seed': 0, 'subsample': 0.72}\n",
    "        xgbmodel = xgb.train(param, dtrain, 100000, watchlist, early_stopping_rounds=30, verbose_eval=None)\n",
    "        #joblib.dump(xgbmodel, f'./pred_pkl/XGB_{n+1}_fold_{seed}_seed_xgb.pkl')\n",
    "\n",
    "        cv[val_idx, :] = xgbmodel.predict(dvalid)\n",
    "        #print(f'fold{n+1} multi_logloss: {log_loss(y_val, cv[val_idx, :])}')\n",
    "        pred_test += xgbmodel.predict(xgtest) / 10 # CV 바꾸면 이 숫자도 똑같이 바꿔야함\n",
    "        \n",
    "    pred_dict['xgb'+str(seed)] = cv\n",
    "    pred_test_dict['xgb'+str(seed)] = pred_test\n",
    "    print('multi_logloss:', log_loss(train_y, cv))"
   ]
  },
  {
   "cell_type": "markdown",
   "id": "ba6aa222",
   "metadata": {},
   "source": [
    "xgbmodels_path = os.listdir('./pred_pkl/')\n",
    "xgbmodels_list = [x for x in xgbmodels_path if x.endswith(\"xgb.pkl\")]\n",
    "assert len(xgbmodels_list) == 15\n",
    "xgb_preds = np.zeros((test_x.shape[0], 3))\n",
    "xgtest = xgb.DMatrix(test_X)\n",
    "\n",
    "for m in xgbmodels_list:\n",
    "    xgbmodel = joblib.load('./pred_pkl/'+m)\n",
    "    xgb_preds_proba = xgbmodel.predict_proba(xgtest\n",
    "       xgb_preds += xgb_preds_proba/15"
   ]
  },
  {
   "cell_type": "markdown",
   "id": "18d1ab4d",
   "metadata": {},
   "source": [
    "## (3) Random Forest"
   ]
  },
  {
   "cell_type": "markdown",
   "id": "3f4b0bb6",
   "metadata": {},
   "source": [
    "### GridSearchCV"
   ]
  },
  {
   "cell_type": "markdown",
   "id": "035aed94",
   "metadata": {
    "collapsed": true
   },
   "source": [
    "params = {'max_depth': [55, 60, 65] # 튜닝할 파라미터 삽입\n",
    "            }\n",
    "\n",
    "rf_clf = RandomForestClassifier(random_state = 0, n_estimators = 1000, \n",
    "                                min_samples_leaf=2, min_samples_split=2,\n",
    "                                criterion='entropy', n_jobs = -1)\n",
    "grid_cv = GridSearchCV(rf_clf, param_grid = params, cv = 5, n_jobs = -1)\n",
    "grid_cv.fit(df_train, y)\n",
    "\n",
    "print('최적 하이퍼 파라미터: ', grid_cv.best_params_)\n",
    "print('최고 예측 정확도: {:.4f}'.format(grid_cv.best_score_))"
   ]
  },
  {
   "cell_type": "markdown",
   "id": "5c19f0b6",
   "metadata": {},
   "source": [
    "### 3 seeds, 10 folds"
   ]
  },
  {
   "cell_type": "code",
   "execution_count": null,
   "id": "f55a7345",
   "metadata": {},
   "outputs": [],
   "source": [
    "lucky_seeds=[42,2019,91373] # 늘려가면서\n",
    "for i, seed in enumerate(lucky_seeds):\n",
    "\n",
    "    kfold = StratifiedKFold(n_splits=10, random_state = seed, shuffle = True) # 늘려가면서\n",
    "    cv = np.zeros((train_x.shape[0], 3))\n",
    "    pred_test = np.zeros((test_x.shape[0], 3), dtype=float)\n",
    "    \n",
    "    for n, (train_idx, val_idx) in enumerate(kfold.split(train_x, train_y)):\n",
    "        \n",
    "        x_train, x_val = train_x.iloc[train_idx], train_x.iloc[val_idx]\n",
    "        y_train, y_val = train_y.iloc[train_idx], train_y.iloc[val_idx]\n",
    "\n",
    "        rfmodel = RandomForestClassifier(n_estimators=1200, criterion='entropy', max_depth=60,\n",
    "                                         min_samples_leaf=2, min_samples_split=2,\n",
    "                                         random_state=seed)\n",
    "        rfmodel.fit(x_train, y_train)\n",
    "        #joblib.dump(rfmodel, f'./pred_pkl/RF_{n+1}_fold_{seed}_seed_rf.pkl')\n",
    "        \n",
    "        cv[val_idx, :] = rfmodel.predict_proba(x_val)      \n",
    "        print(f'fold{n+1} multi_logloss: {log_loss(y_val, cv[val_idx, :])}')\n",
    "        pred_test += rfmodel.predict_proba(test_x) / 10 # CV 바꾸면 이 숫자도 똑같이 바꿔야함\n",
    "        \n",
    "    pred_dict['rf'+str(seed)] = cv\n",
    "    pred_test_dict['rf'+str(seed)] = pred_test\n",
    "    print('multi_logloss :', log_loss(train_y, cv))"
   ]
  },
  {
   "cell_type": "markdown",
   "id": "31628677",
   "metadata": {},
   "source": [
    "rfmodels_path = os.listdir('./pred_pkl/')\n",
    "rfmodels_list = [x for x in rfmodels_path if x.endswith(\"rf.pkl\")]\n",
    "assert len(rfmodels_list) == 15\n",
    "rf_preds = np.zeros((test_x.shape[0], 3))\n",
    "\n",
    "for m in rfmodels_list:\n",
    "    rfmodel = joblib.load('./pred_pkl/'+m)\n",
    "    rf_preds_proba = rfmodel.predict_proba(test_x)\n",
    "    rf_preds += rf_preds_proba/15"
   ]
  },
  {
   "cell_type": "markdown",
   "id": "3611c449",
   "metadata": {},
   "source": [
    "## (4) Catboost (성능X)"
   ]
  },
  {
   "cell_type": "markdown",
   "id": "62aa4fd8",
   "metadata": {},
   "source": [
    "lucky_seeds=[42,2019,91373]\n",
    "for i, seed in enumerate(lucky_seeds):\n",
    "\n",
    "    kfold = KFold(n_splits=5, random_state = seed, shuffle = True)\n",
    "    cv = np.zeros((train.shape[0], 3))\n",
    "    pred_test = np.zeros((test_x.shape[0], 3), dtype=float)\n",
    "    \n",
    "    for n, (train_idx, val_idx) in enumerate(kfold.split(train)):\n",
    "        \n",
    "        x_train, x_val = train_x.iloc[train_idx], train_x.iloc[val_idx]\n",
    "        y_train, y_val = train_y.iloc[train_idx], train_y.iloc[val_idx]\n",
    "        _train = Pool(x_train, label=y_train)\n",
    "        _valid = Pool(x_val, label=y_val)\n",
    "\n",
    "        catmodel =  CatBoostClassifier(loss_function='MultiClass', early_stopping_rounds=50, \n",
    "                                       random_state=seed, learning_rate=0.02, iterations=100000\n",
    "                                       #task_type=\"GPU\"\n",
    "                                      )\n",
    "        \n",
    "        catmodel.fit(_train, eval_set=_valid, use_best_model=True, verbose=2000)\n",
    "        #joblib.dump(rfmodel, f'./pred_pkl/RF_{n+1}_fold_{seed}_seed_rf.pkl')\n",
    "        \n",
    "        cv[val_idx, :] = catmodel.predict_proba(x_val)        \n",
    "        pred_test += catmodel.predict_proba(test_x) / 5\n",
    "        \n",
    "    pred_dict['cat'+str(i+1)] = cv\n",
    "    pred_test_dict['cat'+str(i+1)] = pred_test\n",
    "    print('multi_logloss :', log_loss(true, cv))"
   ]
  },
  {
   "cell_type": "markdown",
   "id": "dd8e1e38",
   "metadata": {},
   "source": [
    "## (4) Stacking (AutoLGB)"
   ]
  },
  {
   "cell_type": "markdown",
   "id": "ea501cc5",
   "metadata": {},
   "source": [
    "### 27features = 3seed(42, 2019, 91373) x 3model(lgb, xgb, rf) x 3class(0, 1, 2)"
   ]
  },
  {
   "cell_type": "code",
   "execution_count": null,
   "id": "b536ec93",
   "metadata": {},
   "outputs": [],
   "source": [
    "new_pred_dict_1={}\n",
    "new_pred_test_dict_1={}\n",
    "for i in range(len(pred_dict)):\n",
    "    if log_loss(train_y, list(pred_dict.values())[i])<0.68:\n",
    "        new_pred_dict_1[list(pred_dict.keys())[i]]=list(pred_dict.values())[i]\n",
    "        new_pred_test_dict_1[list(pred_test_dict.keys())[i]]=list(pred_test_dict.values())[i]"
   ]
  },
  {
   "cell_type": "code",
   "execution_count": null,
   "id": "9410696f",
   "metadata": {},
   "outputs": [],
   "source": [
    "new_pred_dict_2={}\n",
    "new_pred_test_dict_2={}\n",
    "for i in range(len(pred_dict)):\n",
    "    if log_loss(train_y, list(pred_dict.values())[i])<0.687:\n",
    "        new_pred_dict_2[list(pred_dict.keys())[i]]=list(pred_dict.values())[i]\n",
    "        new_pred_test_dict_2[list(pred_test_dict.keys())[i]]=list(pred_test_dict.values())[i]"
   ]
  },
  {
   "cell_type": "code",
   "execution_count": null,
   "id": "52d60672",
   "metadata": {},
   "outputs": [],
   "source": [
    "with open('./pkl/new_pred_dict_1.pickle', 'wb') as fw:\n",
    "    pickle.dump(new_pred_dict_1, fw)\n",
    "    \n",
    "with open('./pkl/new_pred_test_dict_1.pickle', 'wb') as fw:\n",
    "    pickle.dump(new_pred_test_dict_1, fw)"
   ]
  },
  {
   "cell_type": "code",
   "execution_count": null,
   "id": "b1432deb",
   "metadata": {},
   "outputs": [],
   "source": [
    "with open('./pkl/new_pred_dict_2.pickle', 'wb') as fw:\n",
    "    pickle.dump(new_pred_dict_2, fw)\n",
    "    \n",
    "with open('./pkl/new_pred_test_dict_2.pickle', 'wb') as fw:\n",
    "    pickle.dump(new_pred_test_dict_2, fw)"
   ]
  },
  {
   "cell_type": "code",
   "execution_count": null,
   "id": "19d48af7",
   "metadata": {},
   "outputs": [],
   "source": [
    "with open('./pkl/new_pred_dict_1.pickle', 'rb') as fw:\n",
    "    new_pred_dict_1 = pickle.load(fw)\n",
    "\n",
    "with open('./pkl/new_pred_test_dict_2.pickle', 'rb') as fw:\n",
    "    new_pred_test_dict_2 = pickle.load(fw)"
   ]
  },
  {
   "cell_type": "code",
   "execution_count": 9,
   "id": "4282e647",
   "metadata": {},
   "outputs": [],
   "source": [
    "with open('./pkl/new_pred_dict_2.pickle', 'rb') as fw:\n",
    "    new_pred_dict_2 = pickle.load(fw)\n",
    "\n",
    "with open('./pkl/new_pred_test_dict_2.pickle', 'rb') as fw:\n",
    "    new_pred_test_dict_2 = pickle.load(fw)"
   ]
  },
  {
   "cell_type": "code",
   "execution_count": 10,
   "id": "2af8bb55",
   "metadata": {},
   "outputs": [
    {
     "name": "stdout",
     "output_type": "stream",
     "text": [
      "100%|██████████████████████████████████████████████| 100/100 [00:33<00:00,  2.98trial/s, best loss: 0.6793218524233182]\n",
      "best iteration: 254\n",
      "selected features (18): [0, 1, 2, 3, 4, 5, 6, 7, 8, 9, 10, 11, 12, 13, 14, 15, 16, 17]\n",
      "{'bagging_freq': 1, 'verbosity': -1, 'seed': 42, 'num_threads': -1, 'feature_pre_filter': False, 'num_class': 3, 'objective': 'multiclass', 'metric': 'multi_logloss', 'boosting': 'gbdt', 'bagging_fraction': 0.7000000000000001, 'feature_fraction': 0.5, 'lambda_l1': 0, 'lambda_l2': 0.1, 'learning_rate': 0.01278719685972846, 'max_depth': 4, 'min_child_samples': 25, 'num_leaves': 31}\n"
     ]
    }
   ],
   "source": [
    "X_train = pd.DataFrame(np.hstack([x for _, x in new_pred_dict_2.items()]))\n",
    "X_test = pd.DataFrame(np.hstack([x for _, x in new_pred_test_dict_2.items()]))\n",
    "\n",
    "pred = np.zeros((X_train.shape[0], 3), dtype=float)\n",
    "pred_test = np.zeros((X_test.shape[0], 3), dtype=float)\n",
    "#kfold = KFold(n_splits=5, random_state = seed, shuffle = True)\n",
    "cv = StratifiedKFold(n_splits=7, shuffle=True, random_state=42) # 이건 CV 너무 크게하면 안됨, 3~6까지 테스트해보면 좋을듯\n",
    "\n",
    "for i_cv, (i_trn, i_val) in enumerate(cv.split(X_train, train_y)):\n",
    "    if i_cv == 0:\n",
    "        clf = AutoLGB(objective='multiclass', metric='multi_logloss', params={'num_class': 3}, \n",
    "                      feature_selection=False, n_est=10000)\n",
    "        clf.tune(X_train.iloc[i_trn], train_y[i_trn])\n",
    "        n_best = clf.n_best\n",
    "        features = clf.features\n",
    "        params = clf.params\n",
    "        print(f'best iteration: {n_best}')\n",
    "        print(f'selected features ({len(features)}): {features}')        \n",
    "        print(params)\n",
    "        clf.fit(X_train.iloc[i_trn], train_y[i_trn])\n",
    "    else:\n",
    "        train_data = lgb.Dataset(X_train[features].iloc[i_trn], label=train_y[i_trn])\n",
    "        clf = lgb.train(params, train_data, n_best, verbose_eval=100)\n",
    "    \n",
    "    pred[i_val] = clf.predict(X_train[features].iloc[i_val])\n",
    "    pred_test += clf.predict(X_test[features]) / 7"
   ]
  },
  {
   "cell_type": "code",
   "execution_count": 11,
   "id": "2cd1e1b3",
   "metadata": {},
   "outputs": [
    {
     "name": "stdout",
     "output_type": "stream",
     "text": [
      "CV Log Loss: 0.668255\n"
     ]
    }
   ],
   "source": [
    "print(f'CV Log Loss: {log_loss(train_y, pred):.6f}')"
   ]
  },
  {
   "cell_type": "markdown",
   "id": "5a8c0c70",
   "metadata": {},
   "source": [
    "# 결과 제출"
   ]
  },
  {
   "cell_type": "code",
   "execution_count": 12,
   "id": "426ffd5d",
   "metadata": {},
   "outputs": [],
   "source": [
    "submission = sample_submission.copy()\n",
    "submission.iloc[:, 1:] = pred_test"
   ]
  },
  {
   "cell_type": "code",
   "execution_count": 13,
   "id": "0d5c7dd8",
   "metadata": {},
   "outputs": [],
   "source": [
    "submission.to_csv('submission/submission.csv', index=False)"
   ]
  }
 ],
 "metadata": {
  "kernelspec": {
   "display_name": "Python 3",
   "language": "python",
   "name": "python3"
  },
  "language_info": {
   "codemirror_mode": {
    "name": "ipython",
    "version": 3
   },
   "file_extension": ".py",
   "mimetype": "text/x-python",
   "name": "python",
   "nbconvert_exporter": "python",
   "pygments_lexer": "ipython3",
   "version": "3.8.8"
  }
 },
 "nbformat": 4,
 "nbformat_minor": 5
}
